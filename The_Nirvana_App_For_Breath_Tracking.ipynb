{
  "nbformat": 4,
  "nbformat_minor": 0,
  "metadata": {
    "colab": {
      "name": "The Nirvana App - For Breath Tracking.ipynb",
      "provenance": [],
      "authorship_tag": "ABX9TyOY950PGahk+vCF67tA6FKz",
      "include_colab_link": true
    },
    "kernelspec": {
      "name": "python3",
      "display_name": "Python 3"
    },
    "language_info": {
      "name": "python"
    }
  },
  "cells": [
    {
      "cell_type": "markdown",
      "metadata": {
        "id": "view-in-github",
        "colab_type": "text"
      },
      "source": [
        "<a href=\"https://colab.research.google.com/github/maheshbali/microsoft/blob/main/The_Nirvana_App_For_Breath_Tracking.ipynb\" target=\"_parent\"><img src=\"https://colab.research.google.com/assets/colab-badge.svg\" alt=\"Open In Colab\"/></a>"
      ]
    },
    {
      "cell_type": "code",
      "execution_count": 1,
      "metadata": {
        "colab": {
          "base_uri": "https://localhost:8080/"
        },
        "id": "kbHa68rzDiFd",
        "outputId": "56863e0d-7c83-4dd9-ee7c-29af320fd557"
      },
      "outputs": [
        {
          "output_type": "stream",
          "name": "stdout",
          "text": [
            "Collecting heartpy\n",
            "  Downloading heartpy-1.2.7-py3-none-any.whl (1.0 MB)\n",
            "\u001b[?25l\r\u001b[K     |▎                               | 10 kB 18.0 MB/s eta 0:00:01\r\u001b[K     |▋                               | 20 kB 11.8 MB/s eta 0:00:01\r\u001b[K     |█                               | 30 kB 9.4 MB/s eta 0:00:01\r\u001b[K     |█▎                              | 40 kB 8.7 MB/s eta 0:00:01\r\u001b[K     |█▋                              | 51 kB 6.2 MB/s eta 0:00:01\r\u001b[K     |██                              | 61 kB 7.3 MB/s eta 0:00:01\r\u001b[K     |██▎                             | 71 kB 6.8 MB/s eta 0:00:01\r\u001b[K     |██▋                             | 81 kB 6.0 MB/s eta 0:00:01\r\u001b[K     |███                             | 92 kB 6.7 MB/s eta 0:00:01\r\u001b[K     |███▎                            | 102 kB 7.4 MB/s eta 0:00:01\r\u001b[K     |███▋                            | 112 kB 7.4 MB/s eta 0:00:01\r\u001b[K     |████                            | 122 kB 7.4 MB/s eta 0:00:01\r\u001b[K     |████▎                           | 133 kB 7.4 MB/s eta 0:00:01\r\u001b[K     |████▋                           | 143 kB 7.4 MB/s eta 0:00:01\r\u001b[K     |█████                           | 153 kB 7.4 MB/s eta 0:00:01\r\u001b[K     |█████▎                          | 163 kB 7.4 MB/s eta 0:00:01\r\u001b[K     |█████▌                          | 174 kB 7.4 MB/s eta 0:00:01\r\u001b[K     |█████▉                          | 184 kB 7.4 MB/s eta 0:00:01\r\u001b[K     |██████▏                         | 194 kB 7.4 MB/s eta 0:00:01\r\u001b[K     |██████▌                         | 204 kB 7.4 MB/s eta 0:00:01\r\u001b[K     |██████▉                         | 215 kB 7.4 MB/s eta 0:00:01\r\u001b[K     |███████▏                        | 225 kB 7.4 MB/s eta 0:00:01\r\u001b[K     |███████▌                        | 235 kB 7.4 MB/s eta 0:00:01\r\u001b[K     |███████▉                        | 245 kB 7.4 MB/s eta 0:00:01\r\u001b[K     |████████▏                       | 256 kB 7.4 MB/s eta 0:00:01\r\u001b[K     |████████▌                       | 266 kB 7.4 MB/s eta 0:00:01\r\u001b[K     |████████▉                       | 276 kB 7.4 MB/s eta 0:00:01\r\u001b[K     |█████████▏                      | 286 kB 7.4 MB/s eta 0:00:01\r\u001b[K     |█████████▌                      | 296 kB 7.4 MB/s eta 0:00:01\r\u001b[K     |█████████▉                      | 307 kB 7.4 MB/s eta 0:00:01\r\u001b[K     |██████████▏                     | 317 kB 7.4 MB/s eta 0:00:01\r\u001b[K     |██████████▌                     | 327 kB 7.4 MB/s eta 0:00:01\r\u001b[K     |██████████▉                     | 337 kB 7.4 MB/s eta 0:00:01\r\u001b[K     |███████████                     | 348 kB 7.4 MB/s eta 0:00:01\r\u001b[K     |███████████▍                    | 358 kB 7.4 MB/s eta 0:00:01\r\u001b[K     |███████████▊                    | 368 kB 7.4 MB/s eta 0:00:01\r\u001b[K     |████████████                    | 378 kB 7.4 MB/s eta 0:00:01\r\u001b[K     |████████████▍                   | 389 kB 7.4 MB/s eta 0:00:01\r\u001b[K     |████████████▊                   | 399 kB 7.4 MB/s eta 0:00:01\r\u001b[K     |█████████████                   | 409 kB 7.4 MB/s eta 0:00:01\r\u001b[K     |█████████████▍                  | 419 kB 7.4 MB/s eta 0:00:01\r\u001b[K     |█████████████▊                  | 430 kB 7.4 MB/s eta 0:00:01\r\u001b[K     |██████████████                  | 440 kB 7.4 MB/s eta 0:00:01\r\u001b[K     |██████████████▍                 | 450 kB 7.4 MB/s eta 0:00:01\r\u001b[K     |██████████████▊                 | 460 kB 7.4 MB/s eta 0:00:01\r\u001b[K     |███████████████                 | 471 kB 7.4 MB/s eta 0:00:01\r\u001b[K     |███████████████▍                | 481 kB 7.4 MB/s eta 0:00:01\r\u001b[K     |███████████████▊                | 491 kB 7.4 MB/s eta 0:00:01\r\u001b[K     |████████████████                | 501 kB 7.4 MB/s eta 0:00:01\r\u001b[K     |████████████████▍               | 512 kB 7.4 MB/s eta 0:00:01\r\u001b[K     |████████████████▋               | 522 kB 7.4 MB/s eta 0:00:01\r\u001b[K     |█████████████████               | 532 kB 7.4 MB/s eta 0:00:01\r\u001b[K     |█████████████████▎              | 542 kB 7.4 MB/s eta 0:00:01\r\u001b[K     |█████████████████▋              | 552 kB 7.4 MB/s eta 0:00:01\r\u001b[K     |██████████████████              | 563 kB 7.4 MB/s eta 0:00:01\r\u001b[K     |██████████████████▎             | 573 kB 7.4 MB/s eta 0:00:01\r\u001b[K     |██████████████████▋             | 583 kB 7.4 MB/s eta 0:00:01\r\u001b[K     |███████████████████             | 593 kB 7.4 MB/s eta 0:00:01\r\u001b[K     |███████████████████▎            | 604 kB 7.4 MB/s eta 0:00:01\r\u001b[K     |███████████████████▋            | 614 kB 7.4 MB/s eta 0:00:01\r\u001b[K     |████████████████████            | 624 kB 7.4 MB/s eta 0:00:01\r\u001b[K     |████████████████████▎           | 634 kB 7.4 MB/s eta 0:00:01\r\u001b[K     |████████████████████▋           | 645 kB 7.4 MB/s eta 0:00:01\r\u001b[K     |█████████████████████           | 655 kB 7.4 MB/s eta 0:00:01\r\u001b[K     |█████████████████████▎          | 665 kB 7.4 MB/s eta 0:00:01\r\u001b[K     |█████████████████████▋          | 675 kB 7.4 MB/s eta 0:00:01\r\u001b[K     |██████████████████████          | 686 kB 7.4 MB/s eta 0:00:01\r\u001b[K     |██████████████████████▏         | 696 kB 7.4 MB/s eta 0:00:01\r\u001b[K     |██████████████████████▌         | 706 kB 7.4 MB/s eta 0:00:01\r\u001b[K     |██████████████████████▉         | 716 kB 7.4 MB/s eta 0:00:01\r\u001b[K     |███████████████████████▏        | 727 kB 7.4 MB/s eta 0:00:01\r\u001b[K     |███████████████████████▌        | 737 kB 7.4 MB/s eta 0:00:01\r\u001b[K     |███████████████████████▉        | 747 kB 7.4 MB/s eta 0:00:01\r\u001b[K     |████████████████████████▏       | 757 kB 7.4 MB/s eta 0:00:01\r\u001b[K     |████████████████████████▌       | 768 kB 7.4 MB/s eta 0:00:01\r\u001b[K     |████████████████████████▉       | 778 kB 7.4 MB/s eta 0:00:01\r\u001b[K     |█████████████████████████▏      | 788 kB 7.4 MB/s eta 0:00:01\r\u001b[K     |█████████████████████████▌      | 798 kB 7.4 MB/s eta 0:00:01\r\u001b[K     |█████████████████████████▉      | 808 kB 7.4 MB/s eta 0:00:01\r\u001b[K     |██████████████████████████▏     | 819 kB 7.4 MB/s eta 0:00:01\r\u001b[K     |██████████████████████████▌     | 829 kB 7.4 MB/s eta 0:00:01\r\u001b[K     |██████████████████████████▉     | 839 kB 7.4 MB/s eta 0:00:01\r\u001b[K     |███████████████████████████▏    | 849 kB 7.4 MB/s eta 0:00:01\r\u001b[K     |███████████████████████████▌    | 860 kB 7.4 MB/s eta 0:00:01\r\u001b[K     |███████████████████████████▊    | 870 kB 7.4 MB/s eta 0:00:01\r\u001b[K     |████████████████████████████    | 880 kB 7.4 MB/s eta 0:00:01\r\u001b[K     |████████████████████████████▍   | 890 kB 7.4 MB/s eta 0:00:01\r\u001b[K     |████████████████████████████▊   | 901 kB 7.4 MB/s eta 0:00:01\r\u001b[K     |█████████████████████████████   | 911 kB 7.4 MB/s eta 0:00:01\r\u001b[K     |█████████████████████████████▍  | 921 kB 7.4 MB/s eta 0:00:01\r\u001b[K     |█████████████████████████████▊  | 931 kB 7.4 MB/s eta 0:00:01\r\u001b[K     |██████████████████████████████  | 942 kB 7.4 MB/s eta 0:00:01\r\u001b[K     |██████████████████████████████▍ | 952 kB 7.4 MB/s eta 0:00:01\r\u001b[K     |██████████████████████████████▊ | 962 kB 7.4 MB/s eta 0:00:01\r\u001b[K     |███████████████████████████████ | 972 kB 7.4 MB/s eta 0:00:01\r\u001b[K     |███████████████████████████████▍| 983 kB 7.4 MB/s eta 0:00:01\r\u001b[K     |███████████████████████████████▊| 993 kB 7.4 MB/s eta 0:00:01\r\u001b[K     |████████████████████████████████| 1.0 MB 7.4 MB/s \n",
            "\u001b[?25hRequirement already satisfied: matplotlib<=3.3.4 in /usr/local/lib/python3.7/dist-packages (from heartpy) (3.2.2)\n",
            "Requirement already satisfied: numpy>=1.17 in /usr/local/lib/python3.7/dist-packages (from heartpy) (1.21.5)\n",
            "Requirement already satisfied: scipy in /usr/local/lib/python3.7/dist-packages (from heartpy) (1.4.1)\n",
            "Requirement already satisfied: cycler>=0.10 in /usr/local/lib/python3.7/dist-packages (from matplotlib<=3.3.4->heartpy) (0.11.0)\n",
            "Requirement already satisfied: python-dateutil>=2.1 in /usr/local/lib/python3.7/dist-packages (from matplotlib<=3.3.4->heartpy) (2.8.2)\n",
            "Requirement already satisfied: kiwisolver>=1.0.1 in /usr/local/lib/python3.7/dist-packages (from matplotlib<=3.3.4->heartpy) (1.4.0)\n",
            "Requirement already satisfied: pyparsing!=2.0.4,!=2.1.2,!=2.1.6,>=2.0.1 in /usr/local/lib/python3.7/dist-packages (from matplotlib<=3.3.4->heartpy) (3.0.7)\n",
            "Requirement already satisfied: typing-extensions in /usr/local/lib/python3.7/dist-packages (from kiwisolver>=1.0.1->matplotlib<=3.3.4->heartpy) (3.10.0.2)\n",
            "Requirement already satisfied: six>=1.5 in /usr/local/lib/python3.7/dist-packages (from python-dateutil>=2.1->matplotlib<=3.3.4->heartpy) (1.15.0)\n",
            "Installing collected packages: heartpy\n",
            "Successfully installed heartpy-1.2.7\n"
          ]
        }
      ],
      "source": [
        "!pip install heartpy"
      ]
    },
    {
      "cell_type": "code",
      "source": [
        "import warnings\n",
        "\n",
        "import numpy as np\n",
        "from scipy.interpolate import UnivariateSpline\n",
        "from scipy.signal import welch, periodogram\n",
        "\n",
        "import heartpy as hp\n",
        "\n",
        "__all__ = ['calc_rr',\n",
        "           'update_rr',\n",
        "           'calc_rr_segment',\n",
        "           'clean_rr_intervals',\n",
        "           'calc_ts_measures',\n",
        "           'calc_fd_measures',\n",
        "           'calc_breathing']"
      ],
      "metadata": {
        "id": "SVecI6XIDp-r"
      },
      "execution_count": 2,
      "outputs": []
    },
    {
      "cell_type": "code",
      "source": [
        "def calc_rr(peaklist, sample_rate, working_data={}):\n",
        "    '''calculates peak-peak intervals\n",
        "\n",
        "    Function that calculates the peak-peak data required for\n",
        "    further analysis. Stores results in the working_data{} dict.\n",
        "\n",
        "    Parameters\n",
        "    ----------\n",
        "    peaklist : 1d list or array\n",
        "        list or array containing detected peak positions\n",
        "\n",
        "    sample_rate : int or float\n",
        "        the sample rate with which the heart rate signal is collected\n",
        "\n",
        "    working_data : dict\n",
        "        dictionary object that contains all heartpy's working data (temp) objects.\n",
        "        will be created if not passed to function\n",
        "\n",
        "    Returns\n",
        "    -------\n",
        "    working_data : dict\n",
        "        working_data dictionary object containing all of heartpy's temp objects\n",
        "\n",
        "    Examples\n",
        "    --------\n",
        "    Let's assume we detected peaks at these positions in the signal:\n",
        "\n",
        "    >>> peaklist = [200, 280, 405, 501, 615]\n",
        "\n",
        "    It is then easy to call calc_rr to compute what we need:\n",
        "\n",
        "    >>> wd = calc_rr(peaklist, sample_rate = 100.0)\n",
        "    >>> wd['RR_list']\n",
        "    array([ 800., 1250.,  960., 1140.])\n",
        "    >>> wd['RR_diff']\n",
        "    array([450., 290., 180.])\n",
        "    >>> wd['RR_sqdiff']\n",
        "    array([202500.,  84100.,  32400.])\n",
        "\n",
        "    Note that the list of peak-peak intervals is of length len(peaks) - 1\n",
        "    the length of the differences is of length len(peaks) - 2\n",
        "    '''\n",
        "    peaklist = np.array(peaklist) #cast numpy array to be sure or correct array type\n",
        "\n",
        "    #delete first peak if within first 150ms (signal might start mid-beat after peak)\n",
        "    if len(peaklist) > 0:\n",
        "        if peaklist[0] <= ((sample_rate / 1000.0) * 150):\n",
        "            peaklist = np.delete(peaklist, 0)\n",
        "            working_data['ybeat'] = np.delete(working_data['ybeat'], 0)\n",
        "    working_data['peaklist'] = peaklist # Make sure, peaklist is always an np.array\n",
        "\n",
        "    rr_list = (np.diff(peaklist) / sample_rate) * 1000.0\n",
        "    rr_indices = [(peaklist[i], peaklist[i+1]) for i in range(len(peaklist) - 1)]\n",
        "    rr_diff = np.abs(np.diff(rr_list))\n",
        "    rr_sqdiff = np.power(rr_diff, 2)\n",
        "    working_data['RR_list'] = rr_list\n",
        "    working_data['RR_indices'] = rr_indices\n",
        "    working_data['RR_diff'] = rr_diff\n",
        "    working_data['RR_sqdiff'] = rr_sqdiff\n",
        "    return working_data"
      ],
      "metadata": {
        "id": "rdsE5DwiDqB-"
      },
      "execution_count": 3,
      "outputs": []
    },
    {
      "cell_type": "code",
      "source": [
        "def update_rr(working_data={}):\n",
        "    '''updates differences between adjacent peak-peak distances\n",
        "\n",
        "    Function that updates RR differences and RR squared differences\n",
        "    based on corrected RR list\n",
        "\n",
        "    Parameters\n",
        "    ----------\n",
        "    working_data : dict\n",
        "        dictionary object that contains all heartpy's working data (temp) objects\n",
        "        will be created if not passed to function\n",
        "\n",
        "    Returns\n",
        "    -------\n",
        "    out : dict\n",
        "        working_data dictionary object containing all of heartpy's temp objects\n",
        "\n",
        "    Examples\n",
        "    --------\n",
        "    Let's assume we detected peaks at these positions in the signal:\n",
        "\n",
        "    >>> peaklist = [200, 280, 405, 410, 501, 615]\n",
        "\n",
        "    And we subsequently ran further analysis:\n",
        "\n",
        "    >>> wd = calc_rr(peaklist, sample_rate = 100.0)\n",
        "\n",
        "    The peak at position 410 is likely an incorrect detection and\n",
        "    will be marked as such by other heartpy functions. This is indicated\n",
        "    by an array 'binary_peaklist' in working_data. Binary peaklist is of\n",
        "    the same length as peaklist, and is formatted as a mask:\n",
        "\n",
        "    For now let's set it manually, normally this is done by the check_peaks()\n",
        "    function from HeartPy's peakdetection module.\n",
        "\n",
        "    >>> wd['binary_peaklist'] = [1, 1, 1, 0, 1, 1]\n",
        "\n",
        "    Rejected peaks are marked with a zero and accepted with a 1.\n",
        "\n",
        "    By now running update_rr(), heartpy will update all associated measures\n",
        "    and will only compute peak-peak intervals between two accepted peaks.\n",
        "\n",
        "    >>> wd = update_rr(wd)\n",
        "\n",
        "    This will have generated a corrected RR_list object in the dictionary:\n",
        "\n",
        "    >>> wd['RR_list_cor']\n",
        "    array([ 800., 1250., 1140.])\n",
        "\n",
        "    As well as updated the lists RR_diff (differences between adjacent peak-peak intervals) and\n",
        "    RR_sqdiff (squared differences between adjacent peak-peak intervals).\n",
        "    '''\n",
        "    rr_source = working_data['RR_list']\n",
        "    b_peaklist = working_data['binary_peaklist']\n",
        "    rr_list = np.array([rr_source[i] for i in range(len(rr_source)) if b_peaklist[i] + b_peaklist[i+1] == 2])\n",
        "    rr_mask = np.array([0 if (b_peaklist[i] + b_peaklist[i+1] == 2) else 1 for i in range(len(rr_source))])\n",
        "    rr_masked = np.ma.array(rr_source, mask=rr_mask)\n",
        "    rr_diff = np.abs(np.diff(rr_masked))\n",
        "    rr_diff = rr_diff[~rr_diff.mask]\n",
        "    rr_sqdiff = np.power(rr_diff, 2)\n",
        "\n",
        "    working_data['RR_masklist'] = rr_mask\n",
        "    working_data['RR_list_cor'] = rr_list\n",
        "    working_data['RR_diff'] = rr_diff\n",
        "    working_data['RR_sqdiff'] = rr_sqdiff\n",
        "\n",
        "    return working_data"
      ],
      "metadata": {
        "id": "OC23O4hyDqFT"
      },
      "execution_count": 4,
      "outputs": []
    },
    {
      "cell_type": "code",
      "source": [
        "def calc_breathing(rrlist, method='welch', filter_breathing=True,\n",
        "                   bw_cutoff=[0.1, 0.4], measures={}, working_data={}):\n",
        "    '''estimates breathing rate\n",
        "\n",
        "    Function that estimates breathing rate from heart rate signal.\n",
        "    Upsamples the list of detected rr_intervals by interpolation then\n",
        "    tries to extract breathing peaks in the signal.\n",
        "\n",
        "    Parameters\n",
        "    ----------\n",
        "    rr_list : 1d list or array\n",
        "        list or array containing peak-peak intervals\n",
        "\n",
        "    method : str\n",
        "        method to use to get the spectrogram, must be 'fft' or 'welch'\n",
        "        default : fft\n",
        "\n",
        "    filter_breathing : bool\n",
        "        whether to filter the breathing signal derived from the peak-peak intervals\n",
        "        default : True\n",
        "\n",
        "    bw_cutoff : list or tuple\n",
        "        breathing frequency range expected\n",
        "        default : [0.1, 0.4], meaning between 6 and 24 breaths per minute\n",
        "\n",
        "    measures : dict\n",
        "        dictionary object used by heartpy to store computed measures. Will be created\n",
        "        if not passed to function.\n",
        "\n",
        "    working_data : dict\n",
        "        dictionary object that contains all heartpy's working data (temp) objects.\n",
        "        will be created if not passed to function\n",
        "\n",
        "    Returns\n",
        "    -------\n",
        "    measures : dict\n",
        "        dictionary object used by heartpy to store computed measures.\n",
        "\n",
        "    Examples\n",
        "    --------\n",
        "    Normally this function is called during the process pipeline of HeartPy. It can\n",
        "    of course also be used separately.\n",
        "\n",
        "    Let's load an example and get a list of peak-peak intervals\n",
        "\n",
        "    >>> import heartpy as hp\n",
        "    >>> data, _ = hp.load_exampledata(0)\n",
        "    >>> wd, m = hp.process(data, 100.0)\n",
        "\n",
        "    Breathing is then computed with the function\n",
        "\n",
        "    >>> m, wd = calc_breathing(wd['RR_list_cor'], measures = m, working_data = wd)\n",
        "    >>> round(m['breathingrate'], 3)\n",
        "    0.171\n",
        "\n",
        "    There we have it, .17Hz, or about one breathing cycle in 6.25 seconds.\n",
        "    '''\n",
        "\n",
        "    #resample RR-list to 1000Hz\n",
        "    x = np.linspace(0, len(rrlist), len(rrlist))\n",
        "    x_new = np.linspace(0, len(rrlist), np.sum(rrlist, dtype=np.int32))\n",
        "    interp = UnivariateSpline(x, rrlist, k=3)\n",
        "    breathing = interp(x_new)\n",
        "\n",
        "    if filter_breathing:\n",
        "        breathing = hp.filtering.filter_signal(breathing, cutoff=bw_cutoff,\n",
        "                                               sample_rate = 1000.0, filtertype='bandpass')\n",
        "\n",
        "    if method.lower() == 'fft':\n",
        "        datalen = len(breathing)\n",
        "        frq = np.fft.fftfreq(datalen, d=((1/1000.0)))\n",
        "        frq = frq[range(int(datalen/2))]\n",
        "        Y = np.fft.fft(breathing)/datalen\n",
        "        Y = Y[range(int(datalen/2))]\n",
        "        psd = np.power(np.abs(Y), 2)\n",
        "    elif method.lower() == 'welch':\n",
        "        if len(breathing) < 30000:\n",
        "            frq, psd = welch(breathing, fs=1000, nperseg=len(breathing))\n",
        "        else:\n",
        "            frq, psd = welch(breathing, fs=1000, nperseg=np.clip(len(breathing) // 10,\n",
        "                                                                 a_min=30000, a_max=None))\n",
        "    elif method.lower() == 'periodogram':\n",
        "        frq, psd = periodogram(breathing, fs=1000.0, nfft=30000)\n",
        "\n",
        "    else:\n",
        "        raise ValueError('Breathing rate extraction method not understood! Must be \\'welch\\' or \\'fft\\'!')\n",
        "\n",
        "    #find max\n",
        "    measures['breathingrate'] = frq[np.argmax(psd)]\n",
        "    working_data['breathing_signal'] = breathing\n",
        "    working_data['breathing_psd'] = psd\n",
        "    working_data['breathing_frq'] = frq\n",
        "\n",
        "    return measures, working_data"
      ],
      "metadata": {
        "id": "j5cl9ixgDqId"
      },
      "execution_count": 5,
      "outputs": []
    },
    {
      "cell_type": "code",
      "source": [
        "# Let's load an example and get a list of peak-peak intervals\n",
        "\n",
        "import heartpy as hp\n",
        "data, _ = hp.load_exampledata(0)\n",
        "wd, m = hp.process(data, 100.0)\n",
        "\n",
        "#Breathing is then computed with the function\n",
        "m, wd = calc_breathing(wd['RR_list_cor'], measures = m, working_data = wd)\n",
        "round(m['breathingrate'], 3)"
      ],
      "metadata": {
        "colab": {
          "base_uri": "https://localhost:8080/"
        },
        "id": "pI2Y2khEDqOc",
        "outputId": "9d6e4480-f338-49e6-98b5-336359844560"
      },
      "execution_count": 6,
      "outputs": [
        {
          "output_type": "execute_result",
          "data": {
            "text/plain": [
              "0.171"
            ]
          },
          "metadata": {},
          "execution_count": 6
        }
      ]
    },
    {
      "cell_type": "code",
      "source": [
        "#Therefore it is .17Hz, or about one breathing cycle in 6.25 seconds."
      ],
      "metadata": {
        "id": "q1QDmO85DqT6"
      },
      "execution_count": 7,
      "outputs": []
    },
    {
      "cell_type": "code",
      "source": [
        "'''\n",
        "Functions that help visualize results\n",
        "'''\n",
        "\n",
        "import os\n",
        "\n",
        "import matplotlib.pyplot as plt\n",
        "from matplotlib.patches import Ellipse\n",
        "import numpy as np\n",
        "\n",
        "#from . import config\n",
        "\n",
        "__all__ = ['plotter',\n",
        "           'segment_plotter',\n",
        "           'plot_poincare',\n",
        "           'plot_breathing']"
      ],
      "metadata": {
        "id": "wv5TiHvtAooI"
      },
      "execution_count": 8,
      "outputs": []
    },
    {
      "cell_type": "code",
      "source": [
        "def plot_breathing(working_data, measures, show=True, figsize=None): # pragma: no cover\n",
        "    '''plots extracted breathing signal and spectrogram\n",
        "\n",
        "    Function that plots the breathing signal extracted from RR-intervals alongside\n",
        "    its computed spectrogram representation.\n",
        "\n",
        "    Parameters\n",
        "    ----------\n",
        "    working_data : dict\n",
        "        dictionary object that contains all heartpy's working data (temp) objects.\n",
        "        will be created if not passed to function\n",
        "\n",
        "    measures : dict\n",
        "        dictionary object used by heartpy to store computed measures. Will be created\n",
        "        if not passed to function\n",
        "\n",
        "    show : bool\n",
        "        whether to show the plot right away, or return a matplotlib object for\n",
        "        further manipulation\n",
        "\n",
        "    figsize: tuple\n",
        "        Set dimensions of image in inches like in matplotlib. figsize=(x, y)\n",
        "        default: None => (6.4, 4.8)\n",
        "\n",
        "    Returns\n",
        "    -------\n",
        "    out : matplotlib plot object\n",
        "        only returned if show == False.\n",
        "\n",
        "    Examples\n",
        "    --------\n",
        "    This function has no examples. See documentation of heartpy for more info.\n",
        "    '''\n",
        "\n",
        "    fig, (ax1, ax2) = plt.subplots(2, 1, figsize=figsize)\n",
        "\n",
        "    ax1.plot(working_data['breathing_signal'], label='breathing signal')\n",
        "    ax1.set_xlabel('ms')\n",
        "    ax1.set_title('breathing signal extracted from RR-intervals')\n",
        "\n",
        "    ax2.plot(working_data['breathing_frq'], working_data['breathing_psd'], label='spectrogram')\n",
        "    ax2.set_xlim(0, 1)\n",
        "    ax2.set_xlabel('Hz')\n",
        "    ax2.set_title('spectrogram extracted from breathing rate signal')\n",
        "\n",
        "    ax2.legend()\n",
        "    plt.tight_layout()\n",
        "\n",
        "    if show:\n",
        "        fig.show()\n",
        "    else:\n",
        "        return fig"
      ],
      "metadata": {
        "id": "OUyrhqn8BHkO"
      },
      "execution_count": 9,
      "outputs": []
    },
    {
      "cell_type": "code",
      "source": [
        "plot_breathing(wd, m, show=True, figsize=None)"
      ],
      "metadata": {
        "colab": {
          "base_uri": "https://localhost:8080/",
          "height": 297
        },
        "id": "vYPMjyb8D_xb",
        "outputId": "c03ce81c-68d7-4d20-f63f-3e622de838f4"
      },
      "execution_count": 10,
      "outputs": [
        {
          "output_type": "display_data",
          "data": {
            "text/plain": [
              "<Figure size 432x288 with 2 Axes>"
            ],
            "image/png": "[encoded data removed]"
          },
          "metadata": {
            "needs_background": "light"
          }
        }
      ]
    }
  ]
}