{
  "nbformat": 4,
  "nbformat_minor": 0,
  "metadata": {
    "colab": {
      "name": "Augmented Reality Trainer.ipynb",
      "provenance": [],
      "collapsed_sections": [],
      "authorship_tag": "ABX9TyO+aJKg/5kOxbDrklqio1EA",
      "include_colab_link": true
    },
    "kernelspec": {
      "name": "python3",
      "display_name": "Python 3"
    },
    "language_info": {
      "name": "python"
    }
  },
  "cells": [
    {
      "cell_type": "markdown",
      "metadata": {
        "id": "view-in-github",
        "colab_type": "text"
      },
      "source": [
        "<a href=\"https://colab.research.google.com/github/maheshbali/microsoft/blob/main/Augmented_Reality_Trainer.ipynb\" target=\"_parent\"><img src=\"https://colab.research.google.com/assets/colab-badge.svg\" alt=\"Open In Colab\"/></a>"
      ]
    },
    {
      "cell_type": "code",
      "source": [
        "# Importing VIZARD the Virtual Reality software\n",
        "import viz\n",
        "\n",
        "#Enable full screen anti-aliasing (FSAA) to smooth edges\n",
        "viz.setMultiSample(4)\n",
        "\n",
        "viz.go()\n"
      ],
      "metadata": {
        "id": "bYfjXBmajSR8"
      },
      "execution_count": null,
      "outputs": []
    },
    {
      "cell_type": "code",
      "source": [
        "#Increase the Field of View\n",
        "viz.MainWindow.fov(60)\n",
        "\n",
        "viz.move([0,0,-8])\n",
        "\n",
        "piazza = viz.addChild('sky_day.osgb')"
      ],
      "metadata": {
        "id": "7FG4Az-gjSVN"
      },
      "execution_count": null,
      "outputs": []
    },
    {
      "cell_type": "code",
      "source": [
        "# Adding some plants to the scenery that spin in slow motion\n",
        "plants = []\n",
        "for x in [-3, -1, 1, 3]:\n",
        "    for z in [4, 2, 0, -2, -4]:\n",
        "        plant = viz.addChild('plant.osgb',cache=viz.CACHE_CLONE)\n",
        "        plant.setPosition([x,0,z])\n",
        "        plants.append(plant)\n",
        "\n",
        "import vizact\n",
        "spin = vizact.spin(0,1,0,15)\n",
        "\n",
        "for plant in plants:\n",
        "    plant.addAction(spin)\n"
      ],
      "metadata": {
        "id": "-N4lDkg8jSYa"
      },
      "execution_count": null,
      "outputs": []
    },
    {
      "cell_type": "code",
      "source": [
        "# Adding a male and female avatar\n",
        "male = viz.addAvatar('vcc_male.cfg')\n",
        "male.setPosition([4.5, 0, 7])\n",
        "male.setEuler([0,0,0])\n",
        "\n",
        "female = viz.addAvatar('vcc_female.cfg')\n",
        "female.setPosition([4.5,0,9])\n",
        "female.setEuler([180,0,0])"
      ],
      "metadata": {
        "id": "kkrgsowqjSb9"
      },
      "execution_count": null,
      "outputs": []
    },
    {
      "cell_type": "code",
      "source": [
        "# Adding pigeons as part of the scenery\n",
        "import random\n",
        "\n",
        "pigeons = []\n",
        "for i in range(10):\n",
        "\n",
        "    #Generate random values for position and orientation\n",
        "    x = random.randint(-4,3)\n",
        "    z = random.randint(4,8)\n",
        "    yaw = random.randint(0,360)\n",
        "\n",
        "    #Load a pigeon\n",
        "    pigeon = viz.addAvatar('pigeon.cfg')\n",
        "\n",
        "    #Set position, orientation, and state\n",
        "    pigeon.setPosition([x,0,z])\n",
        "    pigeon.setEuler([yaw,0,0])\n",
        "    pigeon.state(1)\n",
        "\n",
        "    #Append the pigeon to a list of pigeons\n",
        "    pigeons.append(pigeon)\n"
      ],
      "metadata": {
        "id": "DM8Vz8YXjecy"
      },
      "execution_count": null,
      "outputs": []
    },
    {
      "cell_type": "code",
      "source": [
        "# Press the \"w\" key to make the avatars walk in the virtual environmnet\n",
        "def walkAvatars():\n",
        "    walk1 = vizact.walkTo([4.5, 0,-40])\n",
        "    vizact.ontimer2(0.5,0,female.addAction,walk1)\n",
        "\n",
        "    walk2 = vizact.walkTo([3.5,0,-40])\n",
        "    male.addAction(walk2)\n",
        "\n",
        "vizact.onkeydown('w',walkAvatars)\n"
      ],
      "metadata": {
        "id": "VyhViUyOjegH"
      },
      "execution_count": null,
      "outputs": []
    },
    {
      "cell_type": "code",
      "source": [
        "# Press \"p\" to make the pigeons feed\n",
        "def pigeonsFeed():\n",
        "\n",
        "    random_speed = vizact.method.setAnimationSpeed(0,vizact.randfloat(0.7,1.5))\n",
        "    random_walk = vizact.walkTo(pos=[vizact.randfloat(-4,4),0,vizact.randfloat(3,7)])\n",
        "    random_animation = vizact.method.state(vizact.choice([1,3],vizact.RANDOM))\n",
        "    random_wait = vizact.waittime(vizact.randfloat(5.0,10.0))\n",
        "    pigeon_idle = vizact.sequence( random_speed, random_walk, random_animation, random_wait, viz.FOREVER)\n",
        "\n",
        "    for pigeon in pigeons:\n",
        "        pigeon.addAction(pigeon_idle)\n",
        "\n",
        "vizact.onkeydown('p',pigeonsFeed)"
      ],
      "metadata": {
        "id": "n9rvM7QSjejo"
      },
      "execution_count": null,
      "outputs": []
    },
    {
      "cell_type": "code",
      "source": [
        ""
      ],
      "metadata": {
        "id": "gluI_52Gjem-"
      },
      "execution_count": null,
      "outputs": []
    },
    {
      "cell_type": "code",
      "source": [
        ""
      ],
      "metadata": {
        "id": "hPG7zCWgjeqf"
      },
      "execution_count": null,
      "outputs": []
    }
  ]
}